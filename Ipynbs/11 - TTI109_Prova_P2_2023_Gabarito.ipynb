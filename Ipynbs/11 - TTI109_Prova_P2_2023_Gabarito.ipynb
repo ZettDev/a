{
  "cells": [
    {
      "cell_type": "markdown",
      "source": [
        "# **Prova P2 - TTI109 - Estatística (CIC-SIN)**\n",
        "# **22 de novembro de 2023**\n",
        "\n",
        "## Instruções:\n",
        "\n",
        "*   Salve esse *notebook* com o nome \"RA.ipynb\", em que RA indica seu registro acadêmico (por exemplo, 96.35774-1).\n",
        "*   Preencha corretamente os campos de identificação (nome completo e RA) e execute a célula de código que contém tais campos.\n",
        "*   É permitida a consulta ao material da disciplina (OPEN-LMS).\n",
        "*   É permitida a consulta ao GitHub pessoal.\n",
        "*   A prova consta de 4 questões, valendo 2,5 pontos cada:\n",
        "    * Questão 01\n",
        "    * Questão 02\n",
        "    * Questão 03\n",
        "    * Questão 04\n",
        "*   Em cada questão, há três células de código:\n",
        "    * na primeira delas, escreva a construção do teste de hipótese.\n",
        "    * na segunda célula, use a função adequada ao teste proposto.\n",
        "    * por fim, na terceira célula, escreva sua conclusão quanto ao teste."
      ],
      "metadata": {
        "id": "3yr3ZTEOci6R"
      }
    },
    {
      "cell_type": "markdown",
      "metadata": {
        "id": "bDsxX6D7_iC8"
      },
      "source": [
        "## Instruções para uso das funções de teste de hipótese\n",
        "\n",
        "Nas 4 células ocultas abaixo estão os códigos das funções:\n",
        "\n",
        "* `TH_media_z`: Função para teste de hipótese da média populacional $\\mu$, com nível de significância $\\alpha$, supondo desvio padrão populacional $\\sigma$ conhecido (uso do valor-p).\n",
        "    \n",
        "* `TH_media_z_regiao`: Idem anterior, porém utilizando as regiões de rejeição como critério de decisão.\n",
        "\n",
        "* `TH_media_t`: Função para teste de hipótese da média populacional $\\mu$, com nível de significância $\\alpha$, supondo desvio padrão populacional $\\sigma$ desconhecido.\n",
        "\n",
        "* `TH_vardp_chi2`: Função para teste de hipótese da variância $\\sigma^2$ ou do desvio padrão $\\sigma$ populacionais, com nível de significância $\\alpha$.\n",
        "\n",
        "**IMPORTANTE:** Execute as células ocultas! Não é necessário visualizá-las para que as funções estejam disponíveis para uso. Entretanto, caso deseje verificar os códigos, clique no triângulo preto que antedece o título \"Instruções para uso das funções de teste de hipótese\"."
      ]
    },
    {
      "cell_type": "code",
      "execution_count": 2,
      "metadata": {
        "id": "5_kRR8xr_cdr"
      },
      "outputs": [],
      "source": [
        "def TH_media_z(x_barra=None, n_amostras=None, mu=None,\n",
        "               sigma=None, alpha=0.05, teste='esquerda', conclusao=True):\n",
        "  '''Função para teste de hipótese da média populacional mu, com nível de\n",
        "  significância alpha, supondo desvio padrão populacional sigma conhecido.\n",
        "  ENTRADA:\n",
        "  - x_barra: média amostral\n",
        "  - n_amostras: número de amostras coletadas no experimento\n",
        "  - mu: hipótese nula para a média populacional\n",
        "  - sigma: desvio padrão populacional\n",
        "  - alpha: nível de significância adotado no teste (valor default 0.05)\n",
        "  - teste: string que identifica o tipo de teste a ser realizado: 'esquerda'\n",
        "  para teste unilateral à esquerda, 'direita', para teste unilateral à direita\n",
        "  e 'bilateral' para teste bilateral (valor default 'esquerda')\n",
        "  - conclusao: flag para ativação do relatório de conclusão do teste de hipótese\n",
        "  (valor default=True)\n",
        "  SAíDA:\n",
        "  - relatório de conclusão do teste de hipótese, caso cocnlusao=True\n",
        "  - p_valor: valor p do teste de hipótese'''\n",
        "\n",
        "  from scipy import stats as st\n",
        "\n",
        "  # Criação da distribuição amostral das médias\n",
        "  dist_amostras = st.norm(loc=mu, scale=sigma/n_amostras**0.5)\n",
        "\n",
        "  # Cálculo do p-valor, de acordo com o tipo de teste\n",
        "  if teste == 'esquerda':\n",
        "    p_valor = dist_amostras.cdf(x_barra)\n",
        "    tipo = 'unilateral à esquerda'\n",
        "  elif teste == 'direita':\n",
        "    p_valor = dist_amostras.sf(x_barra)\n",
        "    tipo = 'unilateral à direita'\n",
        "  elif teste == 'bilateral':\n",
        "    p_valor = 2 * abs(dist_amostras.sf(x_barra))\n",
        "    tipo = 'bilateral'\n",
        "\n",
        "  # Relatório de conclusão do teste de hipótese\n",
        "  if conclusao:\n",
        "    print('*** Teste de hipótese para a média populacional (desvio padrão conhecido) ***')\n",
        "    print(f'Teste {tipo} com p-valor = {p_valor:.6f}')\n",
        "    if p_valor <= alpha:\n",
        "      print(f'Hipótese nula rejeitada ao nível de significância {alpha*100}%')\n",
        "    else:\n",
        "      print(f'Hipótese nula NÃO rejeitada ao nível de significância {alpha*100}%')\n",
        "  return p_valor"
      ]
    },
    {
      "cell_type": "code",
      "execution_count": 3,
      "metadata": {
        "id": "Irx3URtU_yRg"
      },
      "outputs": [],
      "source": [
        "def TH_media_z_regiao(x_barra=None, n_amostras=None, mu=None,\n",
        "                      sigma=None, alpha=0.05, teste='esquerda', conclusao=True):\n",
        "  '''Função para teste de hipótese da média populacional mu, com nível de\n",
        "  significância alpha, supondo desvio padrão populacional sigma conhecido.\n",
        "  ENTRADA:\n",
        "  - x_barra: média amostral\n",
        "  - n_amostras: número de amostras coletadas no experimento\n",
        "  - mu: hipótese nula para a média populacional\n",
        "  - sigma: desvio padrão populacional\n",
        "  - alpha: nível de significância adotado no teste (valor default 0.05)\n",
        "  - teste: string que identifica o tipo de teste a ser realizado: 'esquerda'\n",
        "  para teste unilateral à esquerda, 'direita', para teste unilateral à direita\n",
        "  e 'bilateral' para teste bilateral (valor default 'esquerda')\n",
        "  - conclusao: flag para ativação do relatório de conclusão do teste de hipótese\n",
        "  (valor default=True)\n",
        "  SAíDA:\n",
        "  - relatório de conclusão do teste de hipótese, caso cocnlusao=True\n",
        "  - z0: valor z crítico do teste de hipótese (fronteira da região de rejeição)'''\n",
        "\n",
        "  from scipy import stats as st\n",
        "\n",
        "  # Criação da distribuição normal padrão\n",
        "  dist_padrao = st.norm(loc=0, scale=1)\n",
        "\n",
        "  # Cálculo da estatística de teste padronizada\n",
        "  z = (x_barra-mu)/(sigma/n_amostras**0.5)\n",
        "\n",
        "  # Hipótese nula inicialmente validada\n",
        "  rejeicao = False\n",
        "\n",
        "  # Cálculo do z crítico, de acordo com o tipo de teste\n",
        "  if teste == 'esquerda':\n",
        "    z0 = dist_padrao.ppf(alpha)\n",
        "    tipo = 'unilateral à esquerda'\n",
        "    # Decisão sobre pertinência de z à região de rejeição\n",
        "    if z <= z0:\n",
        "      rejeicao = True\n",
        "  elif teste == 'direita':\n",
        "    z0 = dist_padrao.ppf(1-alpha)\n",
        "    tipo = 'unilateral à direita'\n",
        "    # Decisão sobre pertinência de z à região de rejeição\n",
        "    if z >= z0:\n",
        "      rejeicao = True\n",
        "  elif teste == 'bilateral':\n",
        "    z0 = dist_padrao.ppf(alpha/2)\n",
        "    tipo = 'bilateral'\n",
        "    # Decisão sobre pertinência de z à região de rejeição\n",
        "    if (z <= z0) or (z >= -z0):\n",
        "      rejeicao = True\n",
        "\n",
        "  # Relatório de conclusão do teste de hipótese\n",
        "  if conclusao:\n",
        "     print('*** Teste de hipótese para a média populacional (desvio padrão conhecido) ***')\n",
        "     print(f'Teste {tipo} com z0 = {z0:.6f}')\n",
        "     if rejeicao:\n",
        "      print(f'Hipótese nula rejeitada ao nível de significância {alpha*100}%')\n",
        "     else:\n",
        "      print(f'Hipótese nula NÃO rejeitada ao nível de significância {alpha*100}%')\n",
        "  return z0"
      ]
    },
    {
      "cell_type": "code",
      "execution_count": 4,
      "metadata": {
        "id": "XBTXQAfW_3Wr"
      },
      "outputs": [],
      "source": [
        "def TH_media_t(x_barra=None, n_amostras=None, mu=None, s=None,\n",
        "               alpha=0.05, teste='esquerda', conclusao=True):\n",
        "  '''Função para teste de hipótese da média mu, com nível de significância\n",
        "     alpha, supondo desvio padrão populacional sigma desconhecido.\n",
        "     ENTRADA:\n",
        "     - x_barra: média amostral\n",
        "     - n_amostras: número de amostras coletadas no experimento\n",
        "     - mu: hipótese nula para a média populacional\n",
        "     - s: desvio padrão amostral\n",
        "     - alpha: nível de significância adotado no teste (valor default 0.05)\n",
        "     - teste: string que identifica o tipo de teste a ser realizado: 'esquerda'\n",
        "     para teste unilateral à esquerda, 'direita', para teste unilateral à direita\n",
        "     e 'bilateral' para teste bilateral (valor default 'esquerda')\n",
        "     - conclusao: flag para ativação do relatório de conclusão do teste de hipótese\n",
        "     (valor default=True)\n",
        "     SAÍDA:\n",
        "     - relatório de conclusão do teste de hipótese, caso cocnlusao=True\n",
        "     - t0: valor crítico do teste de hipótese'''\n",
        "\n",
        "  from scipy import stats as st\n",
        "\n",
        "  # Criação da distribuição t\n",
        "  dist_t = st.t(df=n_amostras-1)\n",
        "\n",
        "  # Cálculo da estatística de teste padronizada\n",
        "  t = (x_barra-mu)/(s/n_amostras**0.5)\n",
        "\n",
        "  # Hipótese nula inicialmente validada\n",
        "  rejeicao = False\n",
        "\n",
        "  # Cálculo do t crítico (t0), de acordo com o tipo de teste\n",
        "  if teste == 'esquerda':\n",
        "    t0 = dist_t.ppf(alpha)\n",
        "    tipo = 'unilateral à esquerda'\n",
        "    # Decisão sobre pertinência de t à região de rejeição\n",
        "    if t <= t0:\n",
        "      rejeicao = True\n",
        "  elif teste == 'direita':\n",
        "    t0 = dist_t.ppf(1-alpha)\n",
        "    tipo = 'unilateral à direita'\n",
        "    # Decisão sobre pertinência de t à região de rejeição\n",
        "    if t >= t0:\n",
        "      rejeicao = True\n",
        "  elif teste == 'bilateral':\n",
        "    t0 = dist_t.ppf(alpha/2)\n",
        "    tipo = 'bilateral'\n",
        "    # Decisão sobre pertinência de t à região de rejeição\n",
        "    if (t <= t0) or (t >= -t0):\n",
        "      rejeicao = True\n",
        "\n",
        "  # Relatório de conclusão do teste de hipótese\n",
        "  if conclusao:\n",
        "    print('*** Teste de hipótese para a média populacional (desvio padrão desconhecido) ***')\n",
        "    print(f'Teste {tipo} com t0 = {t0:.5f}')\n",
        "    if rejeicao:\n",
        "      print(f'Hipótese nula rejeitada ao nível de significância {alpha*100}%')\n",
        "    else:\n",
        "      print(f'Hipótese nula NÃO rejeitada ao nível de significância {alpha*100}%')\n",
        "  return t0"
      ]
    },
    {
      "cell_type": "code",
      "execution_count": 5,
      "metadata": {
        "id": "GHbbTyEu_7o7"
      },
      "outputs": [],
      "source": [
        "def TH_vardp_chi2(est_amostral=None, n_amostras=None, val_parametro=None,\n",
        "                  parametro='sigma', alpha=0.05, teste='esquerda',\n",
        "                  conclusao=True):\n",
        "  '''Função para teste de hipótese da variância ou do desvio padrão populacional,\n",
        "  com nível de significância alpha.\n",
        "  ENTRADA:\n",
        "  - est_amostral: variância ou desvio padrão amostral\n",
        "  - n_amostras: número de amostras coletadas no experimento\n",
        "  - val_parametro = valor a ser testado, seja variância ou desvio padrão\n",
        "  - parametro = 'sigma2' para teste de variância e 'sigma' para teste de\n",
        "  desvio padrão populacional\n",
        "  - alpha: nível de significância adotado no teste (valor default 0.05)\n",
        "  - teste: string que identifica o tipo de teste a ser realizado: 'esquerda'\n",
        "  para teste unilateral à esquerda, 'direita', para teste unilateral à direita\n",
        "  e 'bilateral' para teste bilateral (valor default 'esquerda')\n",
        "  - conclusao: flag para ativação do relatório de conclusão do teste de hipótese\n",
        "  (valor default=True)\n",
        "  SAÍDA:\n",
        "  - relatório de conclusão do teste de hipótese, caso cocnlusao=True\n",
        "  - chi2: valor da estatística padronizada\n",
        "  - X20: valor(es) crítico(s) do teste'''\n",
        "\n",
        "  from scipy import stats as st\n",
        "\n",
        "  # Criação da distribuição chi-quadrado\n",
        "  dist_chi2 = st.chi2(df=n_amostras-1)\n",
        "\n",
        "  # Cálculo da estatística de teste padronizada\n",
        "  if parametro == 'sigma2':\n",
        "    chi2 = (n_amostras-1)*est_amostral/val_parametro\n",
        "    param = 'variância'\n",
        "  elif parametro == 'sigma':\n",
        "    chi2 = (n_amostras-1)*est_amostral**2/val_parametro**2\n",
        "    param = 'desvio padrão'\n",
        "\n",
        "  # Hipótese nula inicialmente validada\n",
        "  rejeicao = False\n",
        "\n",
        "  # Cálculo do chi2 crítico, de acordo com o tipo de teste\n",
        "  if teste == 'esquerda':\n",
        "    X20 = dist_chi2.ppf(alpha)\n",
        "    tipo = 'unilateral à esquerda'\n",
        "    # Decisão sobre pertinência de X20 à região de rejeição\n",
        "    if chi2 <= X20:\n",
        "      rejeicao = True\n",
        "  elif teste == 'direita':\n",
        "    X20 = dist_chi2.ppf(1-alpha)\n",
        "    tipo = 'unilateral à direita'\n",
        "    # Decisão sobre pertinência de X20 à região de rejeição\n",
        "    if chi2 >= X20:\n",
        "      rejeicao = True\n",
        "  elif teste == 'bilateral':\n",
        "    X2L = dist_chi2.ppf(alpha/2)\n",
        "    X2R = dist_chi2.ppf(1-alpha/2)\n",
        "    tipo = 'bilateral'\n",
        "    X20 = (X2L, X2R)\n",
        "    # Decisão sobre pertinência de X20 à região de rejeição\n",
        "    if (chi2 <= X2L) or (chi2 >= X2R):\n",
        "      rejeicao = True\n",
        "\n",
        "  # Relatório de conclusão do teste de hipótese\n",
        "  if conclusao:\n",
        "    print(f'*** Teste de hipótese para {param} populacional ***')\n",
        "    print(f'Teste {tipo} com:')\n",
        "    print(f'Estatística de teste padronizada = {chi2:.4f}')\n",
        "    if isinstance(X20, tuple):\n",
        "      print(f'Valores chi-quadrado críticos X2L = {X20[0]:.4f} e X2R = {X20[1]:.4f}')\n",
        "    else:\n",
        "      print(f'Valor chi-quadrado crítico = {X20:.4f}')\n",
        "    if rejeicao:\n",
        "      print(f'Hipótese nula rejeitada ao nível de significância {alpha*100}%')\n",
        "    else:\n",
        "      print(f'Hipótese nula NÃO rejeitada ao nível de significância {alpha*100}%')\n",
        "  return chi2, X20"
      ]
    },
    {
      "cell_type": "markdown",
      "metadata": {
        "id": "BYE6FblwAGZ1"
      },
      "source": [
        "## Importações dos módulos básicos"
      ]
    },
    {
      "cell_type": "code",
      "execution_count": 6,
      "metadata": {
        "id": "FnsDSUZ-AJzM"
      },
      "outputs": [],
      "source": [
        "# Importação de módulos\n",
        "import pandas as pd\n",
        "import matplotlib.pyplot as plt\n",
        "import numpy as np"
      ]
    },
    {
      "cell_type": "markdown",
      "metadata": {
        "id": "3Z_S8BuZAMms"
      },
      "source": [
        "##**Questão 01**\n",
        "\n",
        "Uma máquina automática para encher pacotes de café enche-os segundo uma distribuição normal com média de $\\mu=$ 500 g e desvio padrão $\\sigma=$ 20 g. Todos os dias são colhidas amostras de 16 pacotes, com o intuito de verificar se a máquina funciona dentro do requisito de projeto. Em determinado dia, a média das amostras foi de 492 g. Ao nível de significância de 5% é possível afirmar que a máquina continua bem calibrada?"
      ]
    },
    {
      "cell_type": "code",
      "execution_count": null,
      "metadata": {
        "id": "HhQfLzL8HPle"
      },
      "outputs": [],
      "source": [
        "'''Construção do teste de hipótese:\n",
        "H0: mu = 500 g (afirmação)\n",
        "Ha: mu != 500 g\n",
        "Tipo de teste: bilateral'''"
      ]
    },
    {
      "cell_type": "code",
      "execution_count": 7,
      "metadata": {
        "colab": {
          "base_uri": "https://localhost:8080/"
        },
        "id": "TkzpVbhhHgu3",
        "outputId": "423677df-626c-40e5-e57a-5f8e0cef8994"
      },
      "outputs": [
        {
          "output_type": "stream",
          "name": "stdout",
          "text": [
            "*** Teste de hipótese para a média populacional (desvio padrão conhecido) ***\n",
            "Teste bilateral com p-valor = 1.890401\n",
            "Hipótese nula NÃO rejeitada ao nível de significância 5.0%\n"
          ]
        }
      ],
      "source": [
        "# Uso da função adequada para o teste\n",
        "valor_p = TH_media_z(x_barra=492, n_amostras=16, mu=500,\n",
        "                     sigma=20, alpha=0.05, teste='bilateral', conclusao=True)"
      ]
    },
    {
      "cell_type": "code",
      "execution_count": 8,
      "metadata": {
        "colab": {
          "base_uri": "https://localhost:8080/"
        },
        "id": "SgNnBdBWNclS",
        "outputId": "da7be399-a40b-4753-fdda-ed363c6dd375"
      },
      "outputs": [
        {
          "output_type": "stream",
          "name": "stdout",
          "text": [
            "*** Teste de hipótese para a média populacional (desvio padrão conhecido) ***\n",
            "Teste bilateral com z0 = -1.959964\n",
            "Hipótese nula NÃO rejeitada ao nível de significância 5.0%\n"
          ]
        }
      ],
      "source": [
        "z0 = TH_media_z_regiao(x_barra=492, n_amostras=16, mu=500,\n",
        "                       sigma=20, alpha=0.05, teste='bilateral', conclusao=True)"
      ]
    },
    {
      "cell_type": "code",
      "execution_count": null,
      "metadata": {
        "id": "CJGz1hiBHnMR"
      },
      "outputs": [],
      "source": [
        "'''Conclusão: Há evidências suficientes ao nível de significância de 5% para\n",
        "afirmar que a máquina continua bem calibrada.'''"
      ]
    },
    {
      "cell_type": "markdown",
      "metadata": {
        "id": "79ux55_KBThO"
      },
      "source": [
        "##**Questão 02**\n",
        "\n",
        "O sindicato das indústrias siderúrgicas de um determinado país afirma que o salário médio dos trabalhadores dessa área é superior à 4,5 salários mínimos. Um pesquisador decide investigar essa questão e seleciona aleatoriamente uma amostra de 49 trabalhadores, resultando em um salário médio de 4,2 salários mínimos, com desvio padrão de 0,5 salários mínimos. Ao nível de significância de 5% é possível concordar com o sindicato?"
      ]
    },
    {
      "cell_type": "code",
      "execution_count": null,
      "metadata": {
        "id": "5ZZrlonIHX4u"
      },
      "outputs": [],
      "source": [
        "'''Construção do teste de hipótese:\n",
        "H0: mu <= 4.5\n",
        "Ha: mu > 4.5 salários mínimos (afirmação)\n",
        "Tipo de teste: unilateral à direita'''"
      ]
    },
    {
      "cell_type": "code",
      "execution_count": 9,
      "metadata": {
        "colab": {
          "base_uri": "https://localhost:8080/"
        },
        "id": "fhFryFWEHbIo",
        "outputId": "6ff9c1e4-c870-471c-fb26-fae24296f487"
      },
      "outputs": [
        {
          "output_type": "stream",
          "name": "stdout",
          "text": [
            "*** Teste de hipótese para a média populacional (desvio padrão desconhecido) ***\n",
            "Teste unilateral à direita com t0 = 1.67722\n",
            "Hipótese nula NÃO rejeitada ao nível de significância 5.0%\n"
          ]
        }
      ],
      "source": [
        "# Uso da função adequada para o teste\n",
        "t0 = TH_media_t(x_barra=4.2, n_amostras=49, mu=4.5,\n",
        "                s=0.5, alpha=0.05, teste='direita', conclusao=True)"
      ]
    },
    {
      "cell_type": "code",
      "execution_count": null,
      "metadata": {
        "id": "pzNxyNtyHjcf"
      },
      "outputs": [],
      "source": [
        "'''Conclusão: Há evidências suficientes ao nível de significância de 5% para\n",
        "discordar da afirmação do sindicato de que o salário médio dos trabalhadores é\n",
        "superior à 4,5 salários mínimos.'''"
      ]
    },
    {
      "cell_type": "markdown",
      "metadata": {
        "id": "C7eOwANvDLGC"
      },
      "source": [
        "##**Questão 03**\n",
        "\n",
        "O contra-mestre de turno de uma indústria reporta a seu gestor que a variância da produção mensal é inferior à 300. Desconfiado, o gestor investiga a produção dos últimos 24 meses, descobrindo uma variância de 400. Ao nível de significância de 10%, é possível desmentir o contra-mestre?"
      ]
    },
    {
      "cell_type": "code",
      "execution_count": null,
      "metadata": {
        "id": "gljI5OszHZI3"
      },
      "outputs": [],
      "source": [
        "'''Construção do teste de hipótese:\n",
        "H0: sigma^2 >= 300\n",
        "Ha: sigma^2 < 300 (afirmação)\n",
        "Tipo de teste: unilateral à esquerda'''"
      ]
    },
    {
      "cell_type": "code",
      "execution_count": 10,
      "metadata": {
        "colab": {
          "base_uri": "https://localhost:8080/"
        },
        "id": "35xySpenHfaP",
        "outputId": "ce0e7edf-f525-41c7-eb1f-ad20ff0f49a8"
      },
      "outputs": [
        {
          "output_type": "stream",
          "name": "stdout",
          "text": [
            "*** Teste de hipótese para variância populacional ***\n",
            "Teste unilateral à esquerda com:\n",
            "Estatística de teste padronizada = 30.6667\n",
            "Valor chi-quadrado crítico = 14.8480\n",
            "Hipótese nula NÃO rejeitada ao nível de significância 10.0%\n"
          ]
        }
      ],
      "source": [
        "# Uso da função adequada para o teste\n",
        "X20 = TH_vardp_chi2(est_amostral=400, n_amostras=24, val_parametro=300,\n",
        "                    parametro='sigma2', alpha=0.1, teste='esquerda',\n",
        "                    conclusao=True)"
      ]
    },
    {
      "cell_type": "code",
      "execution_count": null,
      "metadata": {
        "id": "22-Fo4GYHotA"
      },
      "outputs": [],
      "source": [
        "'''Conclusão: Há evidências suficientes ao nível de significância de 10%\n",
        "para desmentir o contra-mestre.'''"
      ]
    },
    {
      "cell_type": "markdown",
      "metadata": {
        "id": "hIgnAvJtFhzq"
      },
      "source": [
        "##**Questão 04**\n",
        "\n",
        "Histotricamente, a precipitação pluviométrica anual em uma certa região tem desvio padrão $\\sigma=$ 3,1. Nos últimos 9 anos, os índices de precipitacão registrados estão presentes na variável `chuva`, definida a seguir."
      ]
    },
    {
      "cell_type": "code",
      "source": [
        "chuva = pd.Series([30.5, 34.1, 27.9, 35.0, 26.9, 30.2, 28.3, 31.7, 25.8])"
      ],
      "metadata": {
        "id": "pY7BAkV5pz_t"
      },
      "execution_count": 11,
      "outputs": []
    },
    {
      "cell_type": "markdown",
      "source": [
        "Ao nível de significância de 5%, é possível concluir que o desvio padrão das precipitações se alterou?"
      ],
      "metadata": {
        "id": "nTnnPrTpp98t"
      }
    },
    {
      "cell_type": "code",
      "execution_count": null,
      "metadata": {
        "id": "0AtKec5yHaPH"
      },
      "outputs": [],
      "source": [
        "'''Construção do teste de hipótese:\n",
        "H0: sigma = 3.1 (afirmação)\n",
        "Ha: sigma != 3.1\n",
        "Tipo de teste: bilateral'''"
      ]
    },
    {
      "cell_type": "code",
      "execution_count": 13,
      "metadata": {
        "colab": {
          "base_uri": "https://localhost:8080/"
        },
        "id": "_CtwZ8ybHibu",
        "outputId": "6978f9e3-603d-4f50-da8a-22b601af24b7"
      },
      "outputs": [
        {
          "output_type": "stream",
          "name": "stdout",
          "text": [
            "*** Teste de hipótese para desvio padrão populacional ***\n",
            "Teste bilateral com:\n",
            "Estatística de teste padronizada = 8.2749\n",
            "Valores chi-quadrado críticos X2L = 2.1797 e X2R = 17.5345\n",
            "Hipótese nula NÃO rejeitada ao nível de significância 5.0%\n"
          ]
        }
      ],
      "source": [
        "# Uso da função adequada para o teste\n",
        "X20 = TH_vardp_chi2(est_amostral=chuva.std(ddof=1), n_amostras=len(chuva),\n",
        "                    val_parametro=3.1, parametro='sigma', alpha=0.05,\n",
        "                    teste='bilateral', conclusao=True)"
      ]
    },
    {
      "cell_type": "code",
      "execution_count": null,
      "metadata": {
        "id": "GTXLDC5XHpdh"
      },
      "outputs": [],
      "source": [
        "'''Conclusão: Há evidências suficientes ao nível de significância de 5% para\n",
        "cocnluir que o desvio padrão das precipitações se mantem em 3.1'''"
      ]
    }
  ],
  "metadata": {
    "colab": {
      "collapsed_sections": [
        "bDsxX6D7_iC8"
      ],
      "provenance": []
    },
    "kernelspec": {
      "display_name": "Python 3",
      "name": "python3"
    },
    "language_info": {
      "codemirror_mode": {
        "name": "ipython",
        "version": 3
      },
      "file_extension": ".py",
      "mimetype": "text/x-python",
      "name": "python",
      "nbconvert_exporter": "python",
      "pygments_lexer": "ipython3",
      "version": "3.12.0"
    }
  },
  "nbformat": 4,
  "nbformat_minor": 0
}